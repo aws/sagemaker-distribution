{
 "cells": [
  {
   "cell_type": "code",
   "execution_count": null,
   "id": "3d5383b9-e06d-42de-b7b7-3ad9603c9585",
   "metadata": {},
   "outputs": [],
   "source": [
    "%load_ext sagemaker_studio_analytics_extension.magics"
   ]
  },
  {
   "cell_type": "code",
   "execution_count": null,
   "id": "feb385d0-c80e-4d65-afe7-8e6beb07e836",
   "metadata": {},
   "outputs": [],
   "source": [
    "%sm_analytics?"
   ]
  },
  {
   "cell_type": "code",
   "execution_count": null,
   "id": "a3faecce-f008-4ac9-94e7-d6bfc6f88bb1",
   "metadata": {},
   "outputs": [],
   "source": []
  }
 ],
 "metadata": {
  "kernelspec": {
   "display_name": "Python 3 (ipykernel)",
   "language": "python",
   "name": "python3"
  },
  "language_info": {
   "codemirror_mode": {
    "name": "ipython",
    "version": 3
   },
   "file_extension": ".py",
   "mimetype": "text/x-python",
   "name": "python",
   "nbconvert_exporter": "python",
   "pygments_lexer": "ipython3",
   "version": "3.10.12"
  }
 },
 "nbformat": 4,
 "nbformat_minor": 5
}
