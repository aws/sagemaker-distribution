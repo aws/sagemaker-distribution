{
 "cells": [
  {
   "cell_type": "code",
   "execution_count": null,
   "id": "22c912b4-78bb-403a-be11-9482dd1e5643",
   "metadata": {},
   "outputs": [],
   "source": [
    "from pyhive import hive"
   ]
  }
 ],
 "metadata": {
  "kernelspec": {
   "display_name": "Python 3 (ipykernel)",
   "language": "python",
   "name": "python3"
  },
  "language_info": {
   "codemirror_mode": {
    "name": "ipython",
    "version": 3
   },
   "file_extension": ".py",
   "mimetype": "text/x-python",
   "name": "python",
   "nbconvert_exporter": "python",
   "pygments_lexer": "ipython3",
   "version": "3.10.12"
  }
 },
 "nbformat": 4,
 "nbformat_minor": 5
}
