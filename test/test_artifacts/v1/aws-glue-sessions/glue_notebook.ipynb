{
 "cells": [
  {
   "cell_type": "code",
   "execution_count": null,
   "id": "1a710e7c-7ebf-477a-88b5-3d85cb08cf19",
   "metadata": {},
   "outputs": [],
   "source": [
    "%status"
   ]
  },
  {
   "cell_type": "code",
   "execution_count": null,
   "id": "0ce599e8-6dcc-42c4-b10d-8e4e898eb436",
   "metadata": {},
   "outputs": [],
   "source": [
    "%stop_session"
   ]
  },
  {
   "cell_type": "code",
   "execution_count": null,
   "id": "013565d2-26dc-4710-83ca-1d00711be6c9",
   "metadata": {},
   "outputs": [],
   "source": [
    "%glue_ray"
   ]
  },
  {
   "cell_type": "code",
   "execution_count": null,
   "id": "e81bb7c2-bec2-4c4b-8d4d-59bf5e6a9daf",
   "metadata": {},
   "outputs": [],
   "source": [
    "%etl"
   ]
  },
  {
   "cell_type": "code",
   "execution_count": null,
   "id": "7a0b5de5-bf14-40f9-a944-f98e5a96e0f4",
   "metadata": {},
   "outputs": [],
   "source": [
    "%streaming"
   ]
  },
  {
   "cell_type": "code",
   "execution_count": null,
   "id": "cf24f505-6f26-447e-acc3-4af4556bb386",
   "metadata": {},
   "outputs": [],
   "source": [
    "%help"
   ]
  },
  {
   "cell_type": "code",
   "execution_count": null,
   "id": "33149d30-420e-4ebf-b32c-ca635db7cb10",
   "metadata": {},
   "outputs": [],
   "source": []
  }
 ],
 "metadata": {
  "kernelspec": {
   "display_name": "Glue PySpark and Ray",
   "language": "python",
   "name": "glue_pyspark"
  },
  "language_info": {
   "codemirror_mode": {
    "name": "python",
    "version": 3
   },
   "file_extension": ".py",
   "mimetype": "text/x-python",
   "name": "Python_Glue_Session",
   "pygments_lexer": "python3"
  }
 },
 "nbformat": 4,
 "nbformat_minor": 5
}
